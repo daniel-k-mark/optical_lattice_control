{
 "cells": [
  {
   "cell_type": "code",
   "execution_count": 1,
   "id": "a23c3294",
   "metadata": {},
   "outputs": [],
   "source": [
    "import numpy as np\n",
    "import matplotlib.pyplot as plt\n",
    "from scipy.sparse import csr_matrix, lil_matrix, coo_matrix\n",
    "from scipy.linalg import expm\n",
    "from scipy import linalg"
   ]
  },
  {
   "cell_type": "markdown",
   "id": "13e6ec92",
   "metadata": {},
   "source": [
    "demonstration and design of pulse sequences for\n",
    "measuring:\n",
    "(i) d-wave pairing\n",
    "(ii) kinetic energy\n",
    "(iii) energy density\n",
    "\n",
    "gates:\n",
    "(iv) pSWAP\n",
    "(v) odd-SWAP"
   ]
  },
  {
   "cell_type": "markdown",
   "id": "d45c1ca8",
   "metadata": {},
   "source": [
    "# Hamiltonian and parameters"
   ]
  },
  {
   "cell_type": "code",
   "execution_count": 7,
   "id": "0987aadf",
   "metadata": {},
   "outputs": [],
   "source": [
    "J = 1\n",
    "U = 2.5\n",
    "u = U/J\n",
    "Bx = 1\n",
    "Delta_mu = 1\n",
    "dBz = 1\n",
    "Bz = 1\n",
    "\n",
    "#basis = |up,0>, |down,0>, |0,up> , |0, down>\n",
    "H_hop_1p = J*np.array([[0,0,1,0],[0,0,0,1],[1,0,0,0],[0,1,0,0]])\n",
    "H_idle_1p = np.array([[0,0,0,0],[0,0,0,0],[0,0,0,0],[0,0,0,0]])\n",
    "H_Bx_1p = Bx*np.array([[0,1,0,0],[1,0,0,0],[0,0,0,1],[0,0,1,0]])\n",
    "H_tilt_1p = Delta_mu*np.array([[1,0,0,0],[0,1,0,0],[0,0,-1,0],[0,0,0,-1]])/2\n",
    "H_dBz_1p = dBz*np.array([[1,0,0,0],[0,-1,0,0],[0,0,-1,0],[0,0,0,1]])/2\n",
    "H_Bz_1p = Bz*np.array([[1,0,0,0],[0,-1,0,0],[0,0,1,0],[0,0,0,-1]])\n",
    "\n",
    "#basis: |d,\\phi>, |up, up>, |up, down>, |down, up>, |down, down>, |\\phi, d>\n",
    "##adding Hubbard U to every term!\n",
    "H_idle_2p = U*np.array([[1,0,0,0,0,0],[0,0,0,0,0,0],[0,0,0,0,0,0],[0,0,0,0,0,0],[0,0,0,0,0,0],[0,0,0,0,0,1]])\n",
    "H_hop_2p = J*np.array([[0,0,1,-1,0,0],[0,0,0,0,0,0],[1,0,0,0,0,1],[-1,0,0,0,0,-1],[0,0,0,0,0,0],[0,0,1,-1,0,0]]) + H_idle_2p\n",
    "H_Bx_2p = Bx*np.array([[0,0,0,0,0,0],[0,0,1,1,0,0],[0,1,0,0,1,0],[0,1,0,0,1,0],[0,0,1,1,0,0],[0,0,0,0,0,0]]) + H_idle_2p\n",
    "H_tilt_2p = Delta_mu*np.array([[1,0,0,0,0,0],[0,0,0,0,0,0],[0,0,0,0,0,0],[0,0,0,0,0,0],[0,0,0,0,0,0],[0,0,0,0,0,-1]]) + H_idle_2p\n",
    "H_dBz_2p = dBz*np.array([[0,0,0,0,0,0],[0,0,0,0,0,0],[0,0,1,0,0,0],[0,0,0,-1,0,0],[0,0,0,0,0,0],[0,0,0,0,0,0]]) + H_idle_2p\n",
    "H_Bz_2p = Bz*np.array([[0,0,0,0,0,0],[0,2,0,0,0,0],[0,0,0,0,0,0],[0,0,0,0,0,0],[0,0,0,0,-2,0],[0,0,0,0,0,0]]) + H_idle_2p\n",
    "\n",
    "#basis = |up,d>, |down,d>, |d,up> , |d, down>\n",
    "H_hop_3p = J*np.array([[0,0,1,0],[0,0,0,1],[1,0,0,0],[0,1,0,0]]) + U*np.eye(4)\n",
    "H_idle_3p = np.array([[0,0,0,0],[0,0,0,0],[0,0,0,0],[0,0,0,0]]) + U*np.eye(4)\n",
    "H_Bx_3p = Bx*np.array([[0,-1,0,0],[-1,0,0,0],[0,0,0,-1],[0,0,-1,0]]) + U*np.eye(4)\n",
    "H_tilt_3p = Delta_mu*np.array([[-1,0,0,0],[0,-1,0,0],[0,0,1,0],[0,0,0,1]])/2 + U*np.eye(4)\n",
    "H_dBz_3p = dBz*np.array([[1,0,0,0],[0,-1,0,0],[0,0,-1,0],[0,0,0,1]])/2 + U*np.eye(4)\n",
    "H_Bz_3p = Bz*np.array([[1,0,0,0],[0,-1,0,0],[0,0,1,0],[0,0,0,-1]])+ U*np.eye(4)\n",
    "\n",
    "controls = {\"Hop\":[H_hop_1p,H_hop_2p,H_hop_3p],\"Idle\":[H_idle_1p,H_idle_2p,H_idle_3p],\"Tilt\":[H_tilt_1p,H_tilt_2p,H_tilt_3p],\"X-field\":[H_Bx_1p,H_Bx_2p,H_Bx_3p],\"Z-field\":[H_Bz_1p,H_Bz_2p,H_Bz_3p],\"Z-grad\":[H_dBz_1p,H_dBz_2p,H_dBz_3p]}\n",
    "\n",
    "#readout basis: |d,\\phi>, |up, up>, |up, down>, |down, up>, |down, down>, |\\phi, d>\n",
    "#control basis: |dphi^+>, |dphi^->,|sing>, |trip>,|uu-dd>,|uu+dd>\n",
    "dphi_plus = np.array([1,0,0,0,0,1])/np.sqrt(2)\n",
    "dphi_minus = np.array([1,0,0,0,0,-1])/np.sqrt(2)\n",
    "sing = np.array([0,0,1,-1,0,0])/np.sqrt(2)\n",
    "trip = np.array([0,0,1,1,0,0])/np.sqrt(2)\n",
    "bell_plus = np.array([0,1,0,0,1,0])/np.sqrt(2)\n",
    "bell_minus = np.array([0,1,0,0,-1,0])/np.sqrt(2)\n",
    "\n",
    "basis_change_matrix = np.array([dphi_plus,dphi_minus,sing,trip,bell_minus,bell_plus])\n",
    "\n"
   ]
  },
  {
   "cell_type": "code",
   "execution_count": 8,
   "id": "5c547ef3",
   "metadata": {},
   "outputs": [],
   "source": [
    "def make_unitary(seq):\n",
    "    ##seq: an ordered list of controls and durations\n",
    "    u1 = np.eye(4,dtype=np.complex128)\n",
    "    u2 = np.eye(6,dtype=np.complex128)\n",
    "    u3 = np.eye(4,dtype=np.complex128)\n",
    "    for s in seq:\n",
    "        H1,H2,H3 = controls[s[0]]\n",
    "        t = s[1]\n",
    "        u1 = linalg.expm(-1j*H1*t).dot(u1)\n",
    "        u2 = linalg.expm(-1j*H2*t).dot(u2)\n",
    "        u3 = linalg.expm(-1j*H3*t).dot(u3)\n",
    "    return u1,u2,u3\n",
    "\n",
    "def unitary(u,ph):\n",
    "#i think i can delete this function now\n",
    "    #fix this function!!\n",
    "    if u == np.inf:\n",
    "        return np.exp(-1j*ph)*np.array([[np.exp(-1j*ph),0],[0,np.exp(1j*ph)]])\n",
    "    else:\n",
    "        lam = np.sqrt(u**2/4+4)\n",
    "        T = ph/lam\n",
    "        if 0< u < np.inf:\n",
    "            th = np.arctan(4/u)\n",
    "        elif u==0:\n",
    "            th = np.pi/2\n",
    "        return np.exp(-1j*u*T/2)*np.array([[np.cos(lam*T)-1j*np.sin(lam*T)*np.cos(th),-1j*np.sin(lam*T)*np.sin(th)],[-1j*np.sin(lam*T)*np.sin(th),np.cos(lam*T)+1j*np.sin(lam*T)*np.cos(th)]])\n",
    "\n",
    "\n",
    "def pulse_phases(u,phase_1p=3*np.pi/2):\n",
    "    aveph12 = phase_1p*2*np.sqrt(1+u**2/16)/2\n",
    "    diffph12 = np.arccos((u**2/16)/(-np.cos(aveph12)))\n",
    "    phi_hop1, phi_hop2 = [aveph12 + diffph12,aveph12 - diffph12]\n",
    "\n",
    "    vx1,vy1 = np.array([(u/(4+u**2/4))*(1-np.cos(phi_hop1)),-(2/np.sqrt(4+u**2/4))*np.sin(phi_hop1)])/np.sqrt((u/(4+u**2/4))**2*(1-np.cos(phi_hop1))**2 + (4/(4+u**2/4))*np.sin(phi_hop1)**2)\n",
    "\n",
    "    vx2,vy2 = np.array([-(u/(4+u**2/4))*(1-np.cos(phi_hop2)),-(2/np.sqrt(4+u**2/4))*np.sin(phi_hop2)])/np.sqrt((u/(4+u**2/4))**2*(1-np.cos(phi_hop2))**2 + (4/(4+u**2/4))*np.sin(phi_hop2)**2)\n",
    "\n",
    "    phi_idle2 = np.mod(np.arctan2(vx1*vy2 - vx2*vy1,vx1*vx2 + vy1*vy2),2*np.pi)\n",
    "    \n",
    "    return phi_hop1, phi_hop2, phi_idle2"
   ]
  },
  {
   "cell_type": "markdown",
   "id": "a2b3ee4b",
   "metadata": {},
   "source": [
    "# d-wave correlator"
   ]
  },
  {
   "cell_type": "code",
   "execution_count": 9,
   "id": "66931a46",
   "metadata": {},
   "outputs": [],
   "source": [
    "## operator\n",
    "op_dwave = [\n",
    "    np.array([[0,0,0,1],[0,0,-1,0],[0,-1,0,0],[1,0,0,0]]),\n",
    "    np.array([[0,-1,0,0,-1,0],[-1,0,0,0,0,-1],[0,0,0,0,0,0],[0,0,0,0,0,0],[-1,0,0,0,0,-1],[0,-1,0,0,-1,0]]),\n",
    "    np.array([[0,0,0,-1],[0,0,1,0],[0,1,0,0],[-1,0,0,0]])\n",
    "]"
   ]
  },
  {
   "cell_type": "code",
   "execution_count": 11,
   "id": "16959fbd",
   "metadata": {},
   "outputs": [],
   "source": [
    "phi_hop1, phi_hop2, phi_idle2 = pulse_phases(u)\n",
    "phi_B = np.pi/2\n",
    "t_B = (phi_B/2)/(Bx)\n",
    "t_hop1 = (phi_hop1/2)/np.sqrt(U**2/4+4*J**2)\n",
    "t_idle2 = (phi_idle2/2)/(U/2)\n",
    "t_hop2 = (phi_hop2/2)/np.sqrt(U**2/4+4*J**2)\n",
    "\n",
    "\n",
    "#finding idle time 1\n",
    "seq_dwave_no_idle = [[\"X-field\",t_B],[\"Hop\",t_hop1],[\"Idle\",t_idle2],[\"Hop\",t_hop2]]\n",
    "us0 = make_unitary(seq_dwave_no_idle)\n",
    "phi_idle1 = np.mod(np.angle(np.vdot(sing,us0[1].dot(dphi_plus)))-np.angle(np.vdot(trip,us0[1].dot(bell_plus))),2*np.pi)\n",
    "t_idle1 = (phi_idle1/2)/(U/2)\n",
    "\n",
    "#full sequence\n",
    "seq_dwave = [[\"X-field\",t_B]\n",
    "          ,[\"Idle\",t_idle1]\n",
    "          ,[\"Hop\",t_hop1],[\"Idle\",t_idle2],[\"Hop\",t_hop2]]\n",
    "us = make_unitary(seq_dwave)"
   ]
  },
  {
   "cell_type": "code",
   "execution_count": 13,
   "id": "c08d7b01",
   "metadata": {},
   "outputs": [],
   "source": [
    "op_eigsys = [np.linalg.eigh(op) for op in op_dwave]"
   ]
  },
  {
   "cell_type": "code",
   "execution_count": 14,
   "id": "42cd4352",
   "metadata": {},
   "outputs": [
    {
     "name": "stdout",
     "output_type": "stream",
     "text": [
      "1-p sector\n",
      "-1.0 [0.  0.5 0.5 0. ]\n",
      "-1.0 [0.  0.5 0.5 0. ]\n",
      "1.0 [0.5 0.  0.  0.5]\n",
      "1.0 [0.5 0.  0.  0.5]\n",
      "2-p sector\n",
      "-2.0 [0. 0. 1. 0. 0. 0.]\n",
      "2.0 [0. 0. 0. 1. 0. 0.]\n",
      "3-p sector\n",
      "-1.0 [0.  0.5 0.5 0. ]\n",
      "-1.0 [0.  0.5 0.5 0. ]\n",
      "1.0 [0.5 0.  0.  0.5]\n",
      "1.0 [0.5 0.  0.  0.5]\n"
     ]
    }
   ],
   "source": [
    "for j in [0,1,2]:\n",
    "    print(\"{}-p sector\".format(j+1))\n",
    "    ovals, ovecs = op_eigsys[j]\n",
    "    for ii in range(len(ovals)):\n",
    "        if not np.isclose(ovals[ii],0):\n",
    "            print(np.round(ovals[ii],5),np.round(np.abs(us[j].dot(ovecs[:,ii]))**2,6))"
   ]
  },
  {
   "cell_type": "markdown",
   "id": "5b617cea",
   "metadata": {},
   "source": [
    "# kinetic energy"
   ]
  },
  {
   "cell_type": "code",
   "execution_count": 15,
   "id": "d8763101",
   "metadata": {},
   "outputs": [],
   "source": [
    "phi_hop1, phi_hop2, phi_idle2 = pulse_phases(u)\n",
    "phi_LR = np.pi/2\n",
    "t_LR = (phi_LR/2)/(Delta_mu/2)\n",
    "#t_idle1 = (phi_idle1/2)/(U/2)\n",
    "t_hop1 = (phi_hop1/2)/np.sqrt(U**2/4+4*J**2)\n",
    "t_idle2 = (phi_idle2/2)/(U/2)\n",
    "t_hop2 = (phi_hop2/2)/np.sqrt(U**2/4+4*J**2)\n",
    "\n",
    "#finding idle time 1\n",
    "seq_KE_no_idle = [[\"Tilt\",t_LR],[\"Hop\",t_hop1],[\"Idle\",t_idle2],[\"Hop\",t_hop2]]\n",
    "us0 = make_unitary(seq_KE_no_idle)\n",
    "phi_idle1_KE = -np.mod(np.angle(us0[1].dot(sing)[0])-np.angle(us0[1].dot(dphi_plus)[0]),2*np.pi)\n",
    "t_idle_KE = (phi_idle1_KE/2)/(U/2)"
   ]
  },
  {
   "cell_type": "code",
   "execution_count": 16,
   "id": "5ae56108",
   "metadata": {},
   "outputs": [],
   "source": [
    "seq_KE = [[\"Tilt\",t_LR]\n",
    "          ,[\"Idle\",t_idle_KE]\n",
    "          ,[\"Hop\",t_hop1],[\"Idle\",t_idle2],[\"Hop\",t_hop2]]\n",
    "\n",
    "us = make_unitary(seq_KE)"
   ]
  },
  {
   "cell_type": "code",
   "execution_count": 17,
   "id": "ce85e716",
   "metadata": {},
   "outputs": [],
   "source": [
    "#kinetic_energy_operators (subtracting interaction terms)\n",
    "op_eigsys = [np.linalg.eigh(op) for op in [H_hop_1p,H_hop_2p-H_idle_2p,H_hop_3p-H_idle_3p]]"
   ]
  },
  {
   "cell_type": "code",
   "execution_count": 18,
   "id": "39be2b73",
   "metadata": {},
   "outputs": [
    {
     "name": "stdout",
     "output_type": "stream",
     "text": [
      "1-p sector\n",
      "-1.0 [1. 0. 0. 0.]\n",
      "-1.0 [0. 1. 0. 0.]\n",
      "1.0 [0. 0. 0. 1.]\n",
      "1.0 [0. 0. 1. 0.]\n",
      "2-p sector\n",
      "-2.0 [0. 0. 0. 0. 0. 1.]\n",
      "2.0 [1. 0. 0. 0. 0. 0.]\n",
      "3-p sector\n",
      "-1.0 [0. 0. 1. 0.]\n",
      "-1.0 [0. 0. 0. 1.]\n",
      "1.0 [0. 1. 0. 0.]\n",
      "1.0 [1. 0. 0. 0.]\n"
     ]
    }
   ],
   "source": [
    "for j in [0,1,2]:\n",
    "    print(\"{}-p sector\".format(j+1))\n",
    "    ovals, ovecs = op_eigsys[j]\n",
    "    for ii in range(len(ovals)):\n",
    "        if not np.isclose(ovals[ii],0):\n",
    "            print(np.round(ovals[ii],5),np.round(np.abs(us[j].dot(ovecs[:,ii]))**2,6))"
   ]
  },
  {
   "cell_type": "markdown",
   "id": "ba5fcf7d",
   "metadata": {},
   "source": [
    "# full energy density"
   ]
  },
  {
   "cell_type": "code",
   "execution_count": 20,
   "id": "ffbbf771",
   "metadata": {},
   "outputs": [],
   "source": [
    "#STO pulse\n",
    "phi_dBz = np.pi/2\n",
    "t_dBz = (phi_dBz/2)/(dBz)"
   ]
  },
  {
   "cell_type": "markdown",
   "id": "63088530",
   "metadata": {},
   "source": [
    "### step zero: mapping eigenstates of energy density to sing \\pm d\\phi^+ states"
   ]
  },
  {
   "cell_type": "code",
   "execution_count": 21,
   "id": "0382ff86",
   "metadata": {},
   "outputs": [
    {
     "name": "stdout",
     "output_type": "stream",
     "text": [
      "Energy density eigvals: [-1.7118 -0.      0.      0.      0.625   2.3368]\n",
      "-1.0\n",
      "0.9999999999999998\n",
      "0.9999999999999993\n"
     ]
    }
   ],
   "source": [
    "en_vals, en_vecs = np.linalg.eigh(H_hop_2p-3*H_idle_2p/4)\n",
    "print(\"Energy density eigvals: {}\".format(np.round(en_vals,4)))\n",
    "thetap = np.arctan(16/u)\n",
    "z = np.cos(thetap)\n",
    "theta = np.arctan(4/u)\n",
    "Delta = np.sin(theta)\n",
    "##determining parameters of zeroth step\n",
    "#Eq. (E8, E9)\n",
    "phi_hop0 = np.arccos((Delta*np.cos(theta)-z)/(np.sqrt(1-Delta**2)*np.sin(theta)))\n",
    "phi_idle0 = np.arccos((Delta*np.sin(theta)+np.sqrt(1-Delta**2)*np.cos(theta)*np.cos(phi_hop0))/np.sqrt(1-z**2))\n",
    "##checking against y-equation to determine sign\n",
    "print(np.round(np.sqrt(1-z**2)*np.sin(phi_idle0)/(-np.sqrt(1-Delta**2)*np.sin(phi_hop0)),3))\n",
    "#pulse times\n",
    "t_idle0 = (np.mod(-phi_idle0,2*np.pi)/2)/(U/2)\n",
    "t_hop0 = (phi_hop0/2)/np.sqrt(U**2/4+4*J**2)\n",
    "\n",
    "seq_pre = [[\"Idle\",t_idle0],[\"Hop\",t_hop0]]\n",
    "\n",
    "us_pre = make_unitary(seq_pre)\n",
    "print(np.abs(np.vdot((sing-dphi_plus)/np.sqrt(2),us_pre[1].dot(en_vecs[:,0])))**2)\n",
    "print(np.abs(np.vdot((sing+dphi_plus)/np.sqrt(2),us_pre[1].dot(en_vecs[:,-1])))**2)"
   ]
  },
  {
   "cell_type": "markdown",
   "id": "4dc292f9",
   "metadata": {},
   "source": [
    "### figuring out idling time 1"
   ]
  },
  {
   "cell_type": "code",
   "execution_count": 22,
   "id": "7feedf40",
   "metadata": {},
   "outputs": [],
   "source": [
    "seq_full_energy_no_idle = [[\"Idle\",t_idle0],[\"Hop\",t_hop0]\n",
    "                           ,[\"Tilt\",t_LR],[\"Hop\",t_hop1],[\"Idle\",t_idle2],[\"Hop\",t_hop2]\n",
    "                           ,[\"Z-grad\",t_dBz]\n",
    "                           ,[\"Hop\",t_hop1],[\"Idle\",t_idle2],[\"Hop\",t_hop2]\n",
    "                           ,[\"Hop\",t_hop1],[\"Idle\",t_idle2],[\"Hop\",t_hop2]              \n",
    "                          ]\n",
    "\n",
    "us0 = make_unitary(seq_full_energy_no_idle)\n",
    "t_idle_dphi_minus = (1/u)*(np.angle(np.dot(sing,us0[1].dot(dphi_minus)))-np.angle(np.dot(trip,us0[1].dot(dphi_minus))))"
   ]
  },
  {
   "cell_type": "markdown",
   "id": "94a42e5c",
   "metadata": {},
   "source": [
    "### figuring out idling time 2"
   ]
  },
  {
   "cell_type": "code",
   "execution_count": 23,
   "id": "d6d5015f",
   "metadata": {},
   "outputs": [],
   "source": [
    "seq_full_energy_idle_dphi_minus = [[\"Idle\",t_idle0],[\"Hop\",t_hop0]\n",
    "                           ,[\"Tilt\",t_LR],[\"Hop\",t_hop1],[\"Idle\",t_idle2],[\"Hop\",t_hop2]\n",
    "                           ,[\"Z-grad\",t_dBz]\n",
    "                           ,[\"Hop\",t_hop1],[\"Idle\",t_idle2],[\"Hop\",t_hop2]\n",
    "                           ,[\"Idle\",t_idle_dphi_minus]\n",
    "                           ,[\"Hop\",t_hop1],[\"Idle\",t_idle2],[\"Hop\",t_hop2]              \n",
    "                          ]\n",
    "\n",
    "us1 = make_unitary(seq_full_energy_idle_dphi_minus)\n",
    "\n",
    "t_idle_KE = -(1/u)*(np.angle(np.dot(dphi_plus,us1[1].dot(en_vecs[:,-1])))-np.angle(np.dot(dphi_minus,us1[1].dot(en_vecs[:,-1]))))\n",
    "\n",
    "seq_full_energy_with_idle = [[\"Idle\",t_idle0],[\"Hop\",t_hop0]\n",
    "                           ,[\"Tilt\",t_LR]\n",
    "                           ,[\"Idle\",t_idle_KE]\n",
    "                           ,[\"Hop\",t_hop1],[\"Idle\",t_idle2],[\"Hop\",t_hop2]\n",
    "                           ,[\"Z-grad\",t_dBz]\n",
    "                           ,[\"Hop\",t_hop1],[\"Idle\",t_idle2],[\"Hop\",t_hop2]\n",
    "                           ,[\"Idle\",t_idle_dphi_minus]\n",
    "                           ,[\"Hop\",t_hop1],[\"Idle\",t_idle2],[\"Hop\",t_hop2]              \n",
    "                          ]\n",
    "\n",
    "us = make_unitary(seq_full_energy_with_idle)"
   ]
  },
  {
   "cell_type": "code",
   "execution_count": 24,
   "id": "cb6baf79",
   "metadata": {},
   "outputs": [
    {
     "name": "stdout",
     "output_type": "stream",
     "text": [
      "1-p sector\n",
      "-1.0 [0. 0. 1. 0.]\n",
      "-1.0 [0. 0. 0. 1.]\n",
      "1.0 [0. 1. 0. 0.]\n",
      "1.0 [1. 0. 0. 0.]\n",
      "2-p sector\n",
      "-1.71177 [0. 0. 0. 0. 0. 1.]\n",
      "0.625 [0. 0. 1. 0. 0. 0.]\n",
      "2.33677 [1. 0. 0. 0. 0. 0.]\n",
      "3-p sector\n",
      "-0.375 [1. 0. 0. 0.]\n",
      "-0.375 [0. 1. 0. 0.]\n",
      "1.625 [0. 0. 0. 1.]\n",
      "1.625 [0. 0. 1. 0.]\n"
     ]
    }
   ],
   "source": [
    "#kinetic_energy_operators (partially subtracting interaction terms)\n",
    "op_eigsys = [np.linalg.eigh(op) for op in [H_hop_1p,H_hop_2p-(3/4)*H_idle_2p,H_hop_3p-(3/4)*H_idle_3p]]\n",
    "\n",
    "for j in [0,1,2]:\n",
    "    print(\"{}-p sector\".format(j+1))\n",
    "    ovals, ovecs = op_eigsys[j]\n",
    "    for ii in range(len(ovals)):\n",
    "        if not np.isclose(ovals[ii],0):\n",
    "            print(np.round(ovals[ii],5),np.round(np.abs(us[j].dot(ovecs[:,ii]))**2,6))"
   ]
  },
  {
   "cell_type": "markdown",
   "id": "c92741a6",
   "metadata": {},
   "source": [
    "# pSWAP"
   ]
  },
  {
   "cell_type": "code",
   "execution_count": 75,
   "id": "b3fcf284",
   "metadata": {},
   "outputs": [
    {
     "name": "stdout",
     "output_type": "stream",
     "text": [
      "1-p\n",
      "[-0.+0.j  0.+0.j  0.+1.j  0.+0.j]\n",
      "[ 0.+0.j -0.+0.j  0.+0.j  0.+1.j]\n",
      "[ 0.+1.j  0.+0.j -0.+0.j  0.+0.j]\n",
      "[ 0.+0.j  0.+1.j  0.+0.j -0.+0.j]\n",
      "2-p\n",
      "dphi+ ->[ 1.-0.j  0.+0.j  0.+0.j -0.+0.j  0.+0.j  0.+0.j]\n",
      "dphi- ->[-0.+0.j -1.-0.j  0.+0.j  0.-0.j  0.+0.j  0.+0.j]\n",
      "sing ->[ 0.-0.j -0.-0.j -1.+0.j  0.-0.j  0.+0.j  0.+0.j]\n",
      "trip ->[-0.-0.j -0.+0.j -0.+0.j  1.-0.j  0.+0.j  0.+0.j]\n",
      "3-p\n",
      "[-0.+0.j  0.+0.j  0.-1.j  0.+0.j]\n",
      "[ 0.+0.j -0.+0.j  0.+0.j  0.-1.j]\n",
      "[0.-1.j 0.+0.j 0.+0.j 0.+0.j]\n",
      "[0.+0.j 0.-1.j 0.+0.j 0.+0.j]\n"
     ]
    }
   ],
   "source": [
    "phi_hop1, phi_hop2, phi_idle2 = pulse_phases(u,phase_1p=3*np.pi/2)\n",
    "\n",
    "t_hop1 = (phi_hop1/2)/np.sqrt(U**2/4+4*J**2)\n",
    "t_idle2 = (phi_idle2/2)/(U/2)\n",
    "t_hop2 = (phi_hop2/2)/np.sqrt(U**2/4+4*J**2)\n",
    "\n",
    "seq_SWAP_first_hop = [[\"Hop\",t_hop1],[\"Idle\",t_idle2],[\"Hop\",t_hop2]\n",
    "            ,[\"Hop\",t_hop1],[\"Idle\",t_idle2],[\"Hop\",t_hop2]\n",
    "           ]\n",
    "\n",
    "us_SWAP0 = make_unitary(seq_SWAP_first_hop)\n",
    "\n",
    "t_idle_01 = (np.angle(np.vdot(sing,us_SWAP0[1].dot(sing)))-np.pi)/u\n",
    "t_idle_02 = np.angle(np.vdot(dphi_plus,us_SWAP0[1].dot(dphi_plus)))/u\n",
    "\n",
    "seq_SWAP_first_idle = [[\"Hop\",t_hop1],[\"Idle\",t_idle2],[\"Hop\",t_hop2]\n",
    "            ,[\"Idle\",t_idle_01]\n",
    "            ,[\"Hop\",t_hop1],[\"Idle\",t_idle2],[\"Hop\",t_hop2]\n",
    "            ,[\"Idle\",t_idle_02]\n",
    "            #,[\"Tilt\",t_LR]\n",
    "            #,[\"Hop\",-t_hop1_three],[\"Idle\",-t_idle2_three],[\"Hop\",-t_hop2_three]\n",
    "            #,[\"Hop\",-t_hop1_three],[\"Idle\",-t_idle2_three],[\"Hop\",-t_hop2_three]\n",
    "                     ]\n",
    "\n",
    "us_SWAP1 = make_unitary(seq_SWAP_first_idle)\n",
    "\n",
    "print(\"1-p\")\n",
    "print(np.round(us_SWAP1[0].dot([1,0,0,0]),6))\n",
    "print(np.round(us_SWAP1[0].dot([0,1,0,0]),6))\n",
    "print(np.round(us_SWAP1[0].dot([0,0,1,0]),6))\n",
    "print(np.round(us_SWAP1[0].dot([0,0,0,1]),6))\n",
    "\n",
    "print(\"2-p\")\n",
    "print(\"dphi+ ->\"+\"{}\".format(np.round(basis_change_matrix.dot(us_SWAP1[1].dot(dphi_plus)),3)))\n",
    "print(\"dphi- ->\"+\"{}\".format(np.round(basis_change_matrix.dot(us_SWAP1[1].dot(dphi_minus)),3)))\n",
    "print(\"sing ->\"+\"{}\".format(np.round(basis_change_matrix.dot(us_SWAP1[1].dot(sing)),3)))\n",
    "print(\"trip ->\"+\"{}\".format(np.round(basis_change_matrix.dot(us_SWAP1[1].dot(trip)),3)))\n",
    "\n",
    "print(\"3-p\")\n",
    "print(np.round(us_SWAP1[2].dot([1,0,0,0]),6))\n",
    "print(np.round(us_SWAP1[2].dot([0,1,0,0]),6))\n",
    "print(np.round(us_SWAP1[2].dot([0,0,1,0]),6))\n",
    "print(np.round(us_SWAP1[2].dot([0,0,0,1]),6))"
   ]
  },
  {
   "cell_type": "markdown",
   "id": "0f5a4605",
   "metadata": {},
   "source": [
    "# odd-SWAP"
   ]
  },
  {
   "cell_type": "code",
   "execution_count": 76,
   "id": "8b990b1f",
   "metadata": {},
   "outputs": [
    {
     "name": "stdout",
     "output_type": "stream",
     "text": [
      "1-p\n",
      "[-0.+0.j  0.+0.j  0.+1.j  0.+0.j]\n",
      "[ 0.+0.j -0.+0.j  0.+0.j  0.+1.j]\n",
      "[ 0.+1.j  0.+0.j -0.+0.j  0.+0.j]\n",
      "[ 0.+0.j  0.+1.j  0.+0.j -0.+0.j]\n",
      "2-p\n",
      "dphi+ ->[ 1.-0.j  0.-0.j -0.+0.j -0.+0.j  0.+0.j  0.+0.j]\n",
      "dphi- ->[ 0.+0.j  1.+0.j -0.+0.j  0.-0.j  0.+0.j  0.+0.j]\n",
      "sing ->[ 0.+0.j -0.+0.j  1.-0.j  0.+0.j  0.+0.j  0.+0.j]\n",
      "trip ->[-0.-0.j  0.+0.j -0.+0.j  1.-0.j  0.+0.j  0.+0.j]\n",
      "3-p\n",
      "[ 0.-0.j  0.+0.j -0.+1.j  0.+0.j]\n",
      "[ 0.+0.j  0.-0.j  0.+0.j -0.+1.j]\n",
      "[-0.+1.j  0.+0.j -0.-0.j  0.+0.j]\n",
      "[ 0.+0.j -0.+1.j  0.+0.j -0.-0.j]\n"
     ]
    }
   ],
   "source": [
    "phi_hop1, phi_hop2, phi_idle2 = pulse_phases(u,phase_1p=3*np.pi/2)\n",
    "\n",
    "t_hop1 = (phi_hop1/2)/np.sqrt(U**2/4+4*J**2)\n",
    "t_idle2 = (phi_idle2/2)/(U/2)\n",
    "t_hop2 = (phi_hop2/2)/np.sqrt(U**2/4+4*J**2)\n",
    "\n",
    "seq_SWAP_first_hop = [[\"Hop\",t_hop1],[\"Idle\",t_idle2],[\"Hop\",t_hop2]\n",
    "            ,[\"Hop\",t_hop1],[\"Idle\",t_idle2],[\"Hop\",t_hop2]\n",
    "           ]\n",
    "\n",
    "us_SWAP0 = make_unitary(seq_SWAP_first_hop)\n",
    "\n",
    "t_idle_01 = (np.angle(np.vdot(sing,us_SWAP0[1].dot(sing))))/u\n",
    "t_idle_02 = np.angle(np.vdot(dphi_plus,us_SWAP0[1].dot(dphi_plus)))/u\n",
    "\n",
    "seq_SWAP_first_idle = [[\"Hop\",t_hop1],[\"Idle\",t_idle2],[\"Hop\",t_hop2]\n",
    "            ,[\"Idle\",t_idle_01]\n",
    "            ,[\"Hop\",t_hop1],[\"Idle\",t_idle2],[\"Hop\",t_hop2]\n",
    "            ,[\"Idle\",t_idle_02]\n",
    "            #,[\"Tilt\",t_LR]\n",
    "            #,[\"Hop\",-t_hop1_three],[\"Idle\",-t_idle2_three],[\"Hop\",-t_hop2_three]\n",
    "            #,[\"Hop\",-t_hop1_three],[\"Idle\",-t_idle2_three],[\"Hop\",-t_hop2_three]\n",
    "                     ]\n",
    "\n",
    "us_SWAP1 = make_unitary(seq_SWAP_first_idle)\n",
    "\n",
    "print(\"1-p\")\n",
    "print(np.round(us_SWAP1[0].dot([1,0,0,0]),6))\n",
    "print(np.round(us_SWAP1[0].dot([0,1,0,0]),6))\n",
    "print(np.round(us_SWAP1[0].dot([0,0,1,0]),6))\n",
    "print(np.round(us_SWAP1[0].dot([0,0,0,1]),6))\n",
    "\n",
    "print(\"2-p\")\n",
    "print(\"dphi+ ->\"+\"{}\".format(np.round(basis_change_matrix.dot(us_SWAP1[1].dot(dphi_plus)),3)))\n",
    "print(\"dphi- ->\"+\"{}\".format(np.round(basis_change_matrix.dot(us_SWAP1[1].dot(dphi_minus)),3)))\n",
    "print(\"sing ->\"+\"{}\".format(np.round(basis_change_matrix.dot(us_SWAP1[1].dot(sing)),3)))\n",
    "print(\"trip ->\"+\"{}\".format(np.round(basis_change_matrix.dot(us_SWAP1[1].dot(trip)),3)))\n",
    "\n",
    "print(\"3-p\")\n",
    "print(np.round(us_SWAP1[2].dot([1,0,0,0]),6))\n",
    "print(np.round(us_SWAP1[2].dot([0,1,0,0]),6))\n",
    "print(np.round(us_SWAP1[2].dot([0,0,1,0]),6))\n",
    "print(np.round(us_SWAP1[2].dot([0,0,0,1]),6))"
   ]
  },
  {
   "cell_type": "markdown",
   "id": "f09d67be",
   "metadata": {},
   "source": [
    "# spin-resolved current operator"
   ]
  },
  {
   "cell_type": "code",
   "execution_count": 63,
   "id": "e07b6b7f",
   "metadata": {},
   "outputs": [],
   "source": [
    "from scipy import optimize\n",
    "\n",
    "def half_pulse_function(dph,u,aveph):\n",
    "    theta= np.arctan(4/u)\n",
    "    return np.cos(theta)**2+np.sin(theta)**2*np.cos(aveph+dph)+np.sin(theta)*np.sin(aveph-dph)\n",
    "\n",
    "def pulse_phase_half(u,phase_1p=np.pi/2):\n",
    "    aveph12 = phase_1p*2*np.sqrt(1+u**2/16)/2\n",
    "    #diffph12 = np.arccos((u**2/16)/(-np.cos(aveph12)))\n",
    "    res = optimize.root_scalar(half_pulse_function,args=(u,aveph12),x0=0,x1=np.pi)\n",
    "    assert res.converged\n",
    "    diffph12 = res.root\n",
    "    \n",
    "    phi_hop1, phi_hop2 = [aveph12 + diffph12,aveph12 - diffph12]\n",
    "\n",
    "    vx1,vy1 = np.array([(u/(4+u**2/4))*(1-np.cos(phi_hop1)),-(2/np.sqrt(4+u**2/4))*np.sin(phi_hop1)])/np.sqrt((u/(4+u**2/4))**2*(1-np.cos(phi_hop1))**2 + (4/(4+u**2/4))*np.sin(phi_hop1)**2)\n",
    "    \n",
    "    theta = np.arctan(4/u)\n",
    "    vx2,vy2 = np.array([np.cos(theta)*np.sin(phi_hop2),np.cos(phi_hop2)])\n",
    "\n",
    "    phi_idle2 = np.mod(np.arctan2(vx1*vy2 - vx2*vy1,vx1*vx2 + vy1*vy2),2*np.pi)\n",
    "    \n",
    "    return phi_hop1, phi_hop2, phi_idle2"
   ]
  },
  {
   "cell_type": "code",
   "execution_count": 70,
   "id": "c31e63ad",
   "metadata": {},
   "outputs": [
    {
     "name": "stdout",
     "output_type": "stream",
     "text": [
      "1-p sector\n",
      "-1.0 [0. 0. 0. 1.]\n",
      "1.0 [0. 1. 0. 0.]\n",
      "2-p sector\n",
      "-1.0 [0. 0. 0. 1. 0. 0.]\n",
      "-1.0 [0. 0. 0. 0. 0. 1.]\n",
      "1.0 [0. 0. 1. 0. 0. 0.]\n",
      "1.0 [1. 0. 0. 0. 0. 0.]\n",
      "3-p sector\n",
      "-1.0 [0. 0. 0. 1.]\n",
      "1.0 [0. 1. 0. 0.]\n"
     ]
    }
   ],
   "source": [
    "phi_hop1_half, phi_hop2_half, phi_idle2_half = pulse_phase_half(u,phase_1p=np.pi/2)\n",
    "\n",
    "t_hop1_half = (phi_hop1_half/2)/np.sqrt(U**2/4+4*J**2)\n",
    "t_idle2_half = (phi_idle2_half/2)/(U/2)\n",
    "t_hop2_half = (phi_hop2_half/2)/np.sqrt(U**2/4+4*J**2)\n",
    "\n",
    "phi_dBz = np.pi\n",
    "t_dBz = (phi_dBz/2)/(dBz)\n",
    "\n",
    "phi_LR = np.pi\n",
    "t_LR = (phi_LR/2)/(Delta_mu)\n",
    "\n",
    "seq_SWAP_0 = [[\"Hop\",t_hop2_half],[\"Idle\",t_idle2_half],[\"Hop\",t_hop1_half]\n",
    "                      ,[\"Z-grad\",t_dBz]\n",
    "                      ,[\"Tilt\",t_LR]\n",
    "                      #,[\"Hop\",-t_hop2_half],[\"Idle\",-t_idle2_half],[\"Hop\",-t_hop1_half]\n",
    "                      ]\n",
    "\n",
    "us_SWAP0 = make_unitary(seq_SWAP_0)\n",
    "\n",
    "t_idle_01 = (np.angle(np.vdot(dphi_plus,us_SWAP0[1].dot(np.array([1,0,0,1j,0,0])/np.sqrt(2))))-np.angle(np.vdot(sing,us_SWAP0[1].dot(np.array([1,0,0,1j,0,0])/np.sqrt(2))))-np.pi/2)/u\n",
    "\n",
    "phi_hop1_B, phi_hop2_B, phi_idle2_B = pulse_phases(u,phase_1p=np.pi/4)\n",
    "\n",
    "t_hop1_B = (phi_hop1_B/2)/np.sqrt(U**2/4+4*J**2)\n",
    "t_idle2_B = (phi_idle2_B/2)/(U/2)\n",
    "t_hop2_B = (phi_hop2_B/2)/np.sqrt(U**2/4+4*J**2)\n",
    "\n",
    "seq_SWAP_first_idle = [[\"Hop\",t_hop2_half],[\"Idle\",t_idle2_half],[\"Hop\",t_hop1_half]\n",
    "                      ,[\"Z-grad\",t_dBz]\n",
    "                      ,[\"Tilt\",t_LR]\n",
    "                      ,[\"Idle\",t_idle_01]\n",
    "                      ,[\"Hop\",t_hop2_half],[\"Idle\",t_idle2_half],[\"Hop\",t_hop1_half]\n",
    "                      ,[\"Hop\",t_hop1_B],[\"Idle\",t_idle2_B],[\"Hop\",t_hop2_B]\n",
    "                      #,[\"Idle\",t_idle_02]\n",
    "                      ,[\"Hop\",t_hop1_B],[\"Idle\",t_idle2_B],[\"Hop\",t_hop2_B]\n",
    "                      ]\n",
    "\n",
    "us_SWAP1 = make_unitary(seq_SWAP_first_idle)\n",
    "\n",
    "aa=basis_change_matrix.dot(us_SWAP1[1].dot(np.array([1,0,0,1j,0,0])/np.sqrt(2)))\n",
    "t_idle_02 = -(np.angle(aa[0])-np.angle(aa[1]))/u\n",
    "\n",
    "seq_SWAP_second_idle = [[\"Hop\",t_hop2_half],[\"Idle\",t_idle2_half],[\"Hop\",t_hop1_half]\n",
    "                      ,[\"Z-grad\",t_dBz]\n",
    "                      ,[\"Tilt\",t_LR]\n",
    "                      ,[\"Idle\",t_idle_01]\n",
    "                      ,[\"Hop\",t_hop2_half],[\"Idle\",t_idle2_half],[\"Hop\",t_hop1_half]\n",
    "                      ,[\"Hop\",t_hop1_B],[\"Idle\",t_idle2_B],[\"Hop\",t_hop2_B]\n",
    "                      ,[\"Idle\",t_idle_02]\n",
    "                      ,[\"Hop\",t_hop1_B],[\"Idle\",t_idle2_B],[\"Hop\",t_hop2_B]\n",
    "                      ]\n",
    "\n",
    "us_SWAP2 = make_unitary(seq_SWAP_second_idle)\n",
    "\n",
    "H_sp_cur_1p = J*np.array([[0,0,0,0],[0,0,0,1j],[0,0,0,0],[0,-1j,0,0]])\n",
    "H_sp_cur_2p = J*np.array([[0,0,0,1j,0,0],[0,0,0,0,0,0],[0,0,0,0,0,-1j],[1j,0,0,0,0,0],[0,0,0,0,0,0],[0,0,-1j,0,0,0]])\n",
    "H_sp_cur_3p = J*np.array([[0,0,0,0],[0,0,0,1j],[0,0,0,0],[0,-1j,0,0]])\n",
    "\n",
    "op_eigsys = [np.linalg.eigh(op) for op in [H_sp_cur_1p,H_sp_cur_2p,H_sp_cur_3p]]\n",
    "\n",
    "for j in [0,1,2]:\n",
    "    print(\"{}-p sector\".format(j+1))\n",
    "    ovals, ovecs = op_eigsys[j]\n",
    "    for ii in range(len(ovals)):\n",
    "        if not np.isclose(ovals[ii],0):\n",
    "            print(np.round(ovals[ii],5),np.round(np.abs(us_SWAP2[j].dot(ovecs[:,ii]))**2,6))"
   ]
  }
 ],
 "metadata": {
  "kernelspec": {
   "display_name": "Python [conda env:theenv] *",
   "language": "python",
   "name": "conda-env-theenv-py"
  },
  "language_info": {
   "codemirror_mode": {
    "name": "ipython",
    "version": 3
   },
   "file_extension": ".py",
   "mimetype": "text/x-python",
   "name": "python",
   "nbconvert_exporter": "python",
   "pygments_lexer": "ipython3",
   "version": "3.11.7"
  }
 },
 "nbformat": 4,
 "nbformat_minor": 5
}
